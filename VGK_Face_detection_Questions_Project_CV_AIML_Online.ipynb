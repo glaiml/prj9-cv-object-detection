{
  "nbformat": 4,
  "nbformat_minor": 0,
  "metadata": {
    "accelerator": "GPU",
    "colab": {
      "name": "Multi face detection - Questions - Project - CV - AIML Online.ipynb",
      "provenance": [],
      "collapsed_sections": []
    },
    "kernelspec": {
      "display_name": "Python 3",
      "language": "python",
      "name": "python3"
    },
    "language_info": {
      "codemirror_mode": {
        "name": "ipython",
        "version": 3
      },
      "file_extension": ".py",
      "mimetype": "text/x-python",
      "name": "python",
      "nbconvert_exporter": "python",
      "pygments_lexer": "ipython3",
      "version": "3.7.3"
    }
  },
  "cells": [
    {
      "cell_type": "code",
      "metadata": {
        "id": "B5m4K1PBWaKZ",
        "colab_type": "code",
        "colab": {
          "base_uri": "https://localhost:8080/",
          "height": 51
        },
        "outputId": "6b591421-faca-44d6-d52c-8bd2a446bebf"
      },
      "source": [
        "%tensorflow_version 2.x\n",
        "import tensorflow\n",
        "tensorflow.__version__"
      ],
      "execution_count": 1,
      "outputs": [
        {
          "output_type": "stream",
          "text": [
            "TensorFlow 2.x selected.\n"
          ],
          "name": "stdout"
        },
        {
          "output_type": "execute_result",
          "data": {
            "text/plain": [
              "'2.1.0'"
            ]
          },
          "metadata": {
            "tags": []
          },
          "execution_count": 1
        }
      ]
    },
    {
      "cell_type": "code",
      "metadata": {
        "id": "PCyy1_StWmua",
        "colab_type": "code",
        "colab": {
          "base_uri": "https://localhost:8080/",
          "height": 34
        },
        "outputId": "47b2f285-b44b-4338-be86-0c5d3d137735"
      },
      "source": [
        "!pip install pycocotools"
      ],
      "execution_count": 2,
      "outputs": [
        {
          "output_type": "stream",
          "text": [
            "Requirement already satisfied: pycocotools in /usr/local/lib/python3.6/dist-packages (2.0.0)\n"
          ],
          "name": "stdout"
        }
      ]
    },
    {
      "cell_type": "code",
      "metadata": {
        "id": "hTeYxxCSWrmx",
        "colab_type": "code",
        "colab": {
          "base_uri": "https://localhost:8080/",
          "height": 34
        },
        "outputId": "53c6417e-1885-4b2b-ae45-88323498324a"
      },
      "source": [
        "!git clone --depth 1 https://github.com/tensorflow/models"
      ],
      "execution_count": 3,
      "outputs": [
        {
          "output_type": "stream",
          "text": [
            "fatal: destination path 'models' already exists and is not an empty directory.\n"
          ],
          "name": "stdout"
        }
      ]
    },
    {
      "cell_type": "code",
      "metadata": {
        "id": "Uj2zU1ZTWvPw",
        "colab_type": "code",
        "colab": {}
      },
      "source": [
        "%%bash\n",
        "cd models/research/\n",
        "protoc object_detection/protos/*.proto --python_out=."
      ],
      "execution_count": 0,
      "outputs": []
    },
    {
      "cell_type": "code",
      "metadata": {
        "id": "RzENBPNiWxEF",
        "colab_type": "code",
        "colab": {
          "base_uri": "https://localhost:8080/",
          "height": 411
        },
        "outputId": "3c0dff37-aae2-4392-d340-6d67548fe0bf"
      },
      "source": [
        "%%bash \n",
        "cd models/research\n",
        "pip install ."
      ],
      "execution_count": 5,
      "outputs": [
        {
          "output_type": "stream",
          "text": [
            "Processing /content/models/research\n",
            "Requirement already satisfied: Pillow>=1.0 in /usr/local/lib/python3.6/dist-packages (from object-detection==0.1) (6.2.2)\n",
            "Requirement already satisfied: Matplotlib>=2.1 in /usr/local/lib/python3.6/dist-packages (from object-detection==0.1) (3.1.3)\n",
            "Requirement already satisfied: Cython>=0.28.1 in /usr/local/lib/python3.6/dist-packages (from object-detection==0.1) (0.29.15)\n",
            "Requirement already satisfied: cycler>=0.10 in /usr/local/lib/python3.6/dist-packages (from Matplotlib>=2.1->object-detection==0.1) (0.10.0)\n",
            "Requirement already satisfied: kiwisolver>=1.0.1 in /usr/local/lib/python3.6/dist-packages (from Matplotlib>=2.1->object-detection==0.1) (1.1.0)\n",
            "Requirement already satisfied: pyparsing!=2.0.4,!=2.1.2,!=2.1.6,>=2.0.1 in /usr/local/lib/python3.6/dist-packages (from Matplotlib>=2.1->object-detection==0.1) (2.4.6)\n",
            "Requirement already satisfied: python-dateutil>=2.1 in /usr/local/lib/python3.6/dist-packages (from Matplotlib>=2.1->object-detection==0.1) (2.6.1)\n",
            "Requirement already satisfied: numpy>=1.11 in /tensorflow-2.1.0/python3.6 (from Matplotlib>=2.1->object-detection==0.1) (1.18.1)\n",
            "Requirement already satisfied: six in /tensorflow-2.1.0/python3.6 (from cycler>=0.10->Matplotlib>=2.1->object-detection==0.1) (1.14.0)\n",
            "Requirement already satisfied: setuptools in /tensorflow-2.1.0/python3.6 (from kiwisolver>=1.0.1->Matplotlib>=2.1->object-detection==0.1) (45.2.0)\n",
            "Building wheels for collected packages: object-detection\n",
            "  Building wheel for object-detection (setup.py): started\n",
            "  Building wheel for object-detection (setup.py): finished with status 'done'\n",
            "  Created wheel for object-detection: filename=object_detection-0.1-cp36-none-any.whl size=1017522 sha256=14fcdcf3a0bf3f65e68fe150f662760da105f558165be9d078336b75f7d5d6d5\n",
            "  Stored in directory: /tmp/pip-ephem-wheel-cache-w88s9cwo/wheels/94/49/4b/39b051683087a22ef7e80ec52152a27249d1a644ccf4e442ea\n",
            "Successfully built object-detection\n",
            "Installing collected packages: object-detection\n",
            "  Found existing installation: object-detection 0.1\n",
            "    Uninstalling object-detection-0.1:\n",
            "      Successfully uninstalled object-detection-0.1\n",
            "Successfully installed object-detection-0.1\n"
          ],
          "name": "stdout"
        }
      ]
    },
    {
      "cell_type": "code",
      "metadata": {
        "id": "wDh7hZRIW2-Z",
        "colab_type": "code",
        "colab": {}
      },
      "source": [
        "import numpy as np\n",
        "import os\n",
        "import six.moves.urllib as urllib\n",
        "import sys\n",
        "import tarfile\n",
        "import zipfile\n",
        "\n",
        "from collections import defaultdict\n",
        "from io import StringIO\n",
        "from matplotlib import pyplot as plt\n",
        "from PIL import Image\n",
        "from IPython.display import display"
      ],
      "execution_count": 0,
      "outputs": []
    },
    {
      "cell_type": "code",
      "metadata": {
        "id": "VeYvBRwlW5ox",
        "colab_type": "code",
        "colab": {
          "base_uri": "https://localhost:8080/",
          "height": 1000
        },
        "outputId": "e7ec1703-c6ef-49b7-bdac-6729d1c7672b"
      },
      "source": [
        "! pip install tensorflow-object-detection-api"
      ],
      "execution_count": 7,
      "outputs": [
        {
          "output_type": "stream",
          "text": [
            "Requirement already satisfied: tensorflow-object-detection-api in /usr/local/lib/python3.6/dist-packages (0.1.1)\n",
            "Requirement already satisfied: tensorflow in /tensorflow-2.1.0/python3.6 (from tensorflow-object-detection-api) (2.1.0)\n",
            "Requirement already satisfied: wheel in /tensorflow-2.1.0/python3.6 (from tensorflow-object-detection-api) (0.34.2)\n",
            "Requirement already satisfied: twine in /usr/local/lib/python3.6/dist-packages (from tensorflow-object-detection-api) (3.1.1)\n",
            "Requirement already satisfied: lxml in /usr/local/lib/python3.6/dist-packages (from tensorflow-object-detection-api) (4.2.6)\n",
            "Requirement already satisfied: Pillow>=1.0 in /usr/local/lib/python3.6/dist-packages (from tensorflow-object-detection-api) (6.2.2)\n",
            "Requirement already satisfied: Matplotlib>=2.1 in /usr/local/lib/python3.6/dist-packages (from tensorflow-object-detection-api) (3.1.3)\n",
            "Requirement already satisfied: jupyter in /usr/local/lib/python3.6/dist-packages (from tensorflow-object-detection-api) (1.0.0)\n",
            "Requirement already satisfied: contextlib2 in /usr/local/lib/python3.6/dist-packages (from tensorflow-object-detection-api) (0.5.5)\n",
            "Requirement already satisfied: Protobuf in /tensorflow-2.1.0/python3.6 (from tensorflow-object-detection-api) (3.11.3)\n",
            "Requirement already satisfied: Cython>=0.28.1 in /usr/local/lib/python3.6/dist-packages (from tensorflow-object-detection-api) (0.29.15)\n",
            "Requirement already satisfied: scipy==1.4.1; python_version >= \"3\" in /tensorflow-2.1.0/python3.6 (from tensorflow->tensorflow-object-detection-api) (1.4.1)\n",
            "Requirement already satisfied: opt-einsum>=2.3.2 in /tensorflow-2.1.0/python3.6 (from tensorflow->tensorflow-object-detection-api) (3.1.0)\n",
            "Requirement already satisfied: keras-preprocessing>=1.1.0 in /tensorflow-2.1.0/python3.6 (from tensorflow->tensorflow-object-detection-api) (1.1.0)\n",
            "Requirement already satisfied: tensorflow-estimator<2.2.0,>=2.1.0rc0 in /tensorflow-2.1.0/python3.6 (from tensorflow->tensorflow-object-detection-api) (2.1.0)\n",
            "Requirement already satisfied: gast==0.2.2 in /tensorflow-2.1.0/python3.6 (from tensorflow->tensorflow-object-detection-api) (0.2.2)\n",
            "Requirement already satisfied: wrapt>=1.11.1 in /tensorflow-2.1.0/python3.6 (from tensorflow->tensorflow-object-detection-api) (1.11.2)\n",
            "Requirement already satisfied: keras-applications>=1.0.8 in /tensorflow-2.1.0/python3.6 (from tensorflow->tensorflow-object-detection-api) (1.0.8)\n",
            "Requirement already satisfied: termcolor>=1.1.0 in /tensorflow-2.1.0/python3.6 (from tensorflow->tensorflow-object-detection-api) (1.1.0)\n",
            "Requirement already satisfied: tensorboard<2.2.0,>=2.1.0 in /tensorflow-2.1.0/python3.6 (from tensorflow->tensorflow-object-detection-api) (2.1.0)\n",
            "Requirement already satisfied: six>=1.12.0 in /tensorflow-2.1.0/python3.6 (from tensorflow->tensorflow-object-detection-api) (1.14.0)\n",
            "Requirement already satisfied: google-pasta>=0.1.6 in /tensorflow-2.1.0/python3.6 (from tensorflow->tensorflow-object-detection-api) (0.1.8)\n",
            "Requirement already satisfied: astor>=0.6.0 in /tensorflow-2.1.0/python3.6 (from tensorflow->tensorflow-object-detection-api) (0.8.1)\n",
            "Requirement already satisfied: absl-py>=0.7.0 in /tensorflow-2.1.0/python3.6 (from tensorflow->tensorflow-object-detection-api) (0.9.0)\n",
            "Requirement already satisfied: grpcio>=1.8.6 in /tensorflow-2.1.0/python3.6 (from tensorflow->tensorflow-object-detection-api) (1.27.1)\n",
            "Requirement already satisfied: numpy<2.0,>=1.16.0 in /tensorflow-2.1.0/python3.6 (from tensorflow->tensorflow-object-detection-api) (1.18.1)\n",
            "Requirement already satisfied: setuptools>=0.7.0 in /tensorflow-2.1.0/python3.6 (from twine->tensorflow-object-detection-api) (45.2.0)\n",
            "Requirement already satisfied: pkginfo>=1.4.2 in /usr/local/lib/python3.6/dist-packages (from twine->tensorflow-object-detection-api) (1.5.0.1)\n",
            "Requirement already satisfied: tqdm>=4.14 in /usr/local/lib/python3.6/dist-packages (from twine->tensorflow-object-detection-api) (4.28.1)\n",
            "Requirement already satisfied: importlib-metadata; python_version < \"3.8\" in /usr/local/lib/python3.6/dist-packages (from twine->tensorflow-object-detection-api) (1.5.0)\n",
            "Requirement already satisfied: requests>=2.20 in /tensorflow-2.1.0/python3.6 (from twine->tensorflow-object-detection-api) (2.22.0)\n",
            "Requirement already satisfied: readme-renderer>=21.0 in /usr/local/lib/python3.6/dist-packages (from twine->tensorflow-object-detection-api) (24.0)\n",
            "Requirement already satisfied: keyring>=15.1 in /usr/local/lib/python3.6/dist-packages (from twine->tensorflow-object-detection-api) (21.1.0)\n",
            "Requirement already satisfied: requests-toolbelt!=0.9.0,>=0.8.0 in /usr/local/lib/python3.6/dist-packages (from twine->tensorflow-object-detection-api) (0.9.1)\n",
            "Requirement already satisfied: pyparsing!=2.0.4,!=2.1.2,!=2.1.6,>=2.0.1 in /usr/local/lib/python3.6/dist-packages (from Matplotlib>=2.1->tensorflow-object-detection-api) (2.4.6)\n",
            "Requirement already satisfied: python-dateutil>=2.1 in /usr/local/lib/python3.6/dist-packages (from Matplotlib>=2.1->tensorflow-object-detection-api) (2.6.1)\n",
            "Requirement already satisfied: cycler>=0.10 in /usr/local/lib/python3.6/dist-packages (from Matplotlib>=2.1->tensorflow-object-detection-api) (0.10.0)\n",
            "Requirement already satisfied: kiwisolver>=1.0.1 in /usr/local/lib/python3.6/dist-packages (from Matplotlib>=2.1->tensorflow-object-detection-api) (1.1.0)\n",
            "Requirement already satisfied: nbconvert in /usr/local/lib/python3.6/dist-packages (from jupyter->tensorflow-object-detection-api) (5.6.1)\n",
            "Requirement already satisfied: ipywidgets in /usr/local/lib/python3.6/dist-packages (from jupyter->tensorflow-object-detection-api) (7.5.1)\n",
            "Requirement already satisfied: qtconsole in /usr/local/lib/python3.6/dist-packages (from jupyter->tensorflow-object-detection-api) (4.6.0)\n",
            "Requirement already satisfied: jupyter-console in /usr/local/lib/python3.6/dist-packages (from jupyter->tensorflow-object-detection-api) (5.2.0)\n",
            "Requirement already satisfied: notebook in /usr/local/lib/python3.6/dist-packages (from jupyter->tensorflow-object-detection-api) (5.2.2)\n",
            "Requirement already satisfied: ipykernel in /usr/local/lib/python3.6/dist-packages (from jupyter->tensorflow-object-detection-api) (4.6.1)\n",
            "Requirement already satisfied: h5py in /tensorflow-2.1.0/python3.6 (from keras-applications>=1.0.8->tensorflow->tensorflow-object-detection-api) (2.10.0)\n",
            "Requirement already satisfied: markdown>=2.6.8 in /tensorflow-2.1.0/python3.6 (from tensorboard<2.2.0,>=2.1.0->tensorflow->tensorflow-object-detection-api) (3.2.1)\n",
            "Requirement already satisfied: werkzeug>=0.11.15 in /tensorflow-2.1.0/python3.6 (from tensorboard<2.2.0,>=2.1.0->tensorflow->tensorflow-object-detection-api) (1.0.0)\n",
            "Requirement already satisfied: google-auth<2,>=1.6.3 in /tensorflow-2.1.0/python3.6 (from tensorboard<2.2.0,>=2.1.0->tensorflow->tensorflow-object-detection-api) (1.11.0)\n",
            "Requirement already satisfied: google-auth-oauthlib<0.5,>=0.4.1 in /tensorflow-2.1.0/python3.6 (from tensorboard<2.2.0,>=2.1.0->tensorflow->tensorflow-object-detection-api) (0.4.1)\n",
            "Requirement already satisfied: zipp>=0.5 in /usr/local/lib/python3.6/dist-packages (from importlib-metadata; python_version < \"3.8\"->twine->tensorflow-object-detection-api) (2.2.0)\n",
            "Requirement already satisfied: idna<2.9,>=2.5 in /tensorflow-2.1.0/python3.6 (from requests>=2.20->twine->tensorflow-object-detection-api) (2.8)\n",
            "Requirement already satisfied: urllib3!=1.25.0,!=1.25.1,<1.26,>=1.21.1 in /tensorflow-2.1.0/python3.6 (from requests>=2.20->twine->tensorflow-object-detection-api) (1.25.8)\n",
            "Requirement already satisfied: certifi>=2017.4.17 in /tensorflow-2.1.0/python3.6 (from requests>=2.20->twine->tensorflow-object-detection-api) (2019.11.28)\n",
            "Requirement already satisfied: chardet<3.1.0,>=3.0.2 in /tensorflow-2.1.0/python3.6 (from requests>=2.20->twine->tensorflow-object-detection-api) (3.0.4)\n",
            "Requirement already satisfied: bleach>=2.1.0 in /usr/local/lib/python3.6/dist-packages (from readme-renderer>=21.0->twine->tensorflow-object-detection-api) (3.1.0)\n",
            "Requirement already satisfied: docutils>=0.13.1 in /usr/local/lib/python3.6/dist-packages (from readme-renderer>=21.0->twine->tensorflow-object-detection-api) (0.15.2)\n",
            "Requirement already satisfied: Pygments in /usr/local/lib/python3.6/dist-packages (from readme-renderer>=21.0->twine->tensorflow-object-detection-api) (2.1.3)\n",
            "Requirement already satisfied: SecretStorage>=3; sys_platform == \"linux\" in /usr/local/lib/python3.6/dist-packages (from keyring>=15.1->twine->tensorflow-object-detection-api) (3.1.2)\n",
            "Requirement already satisfied: jeepney>=0.4.2; sys_platform == \"linux\" in /usr/local/lib/python3.6/dist-packages (from keyring>=15.1->twine->tensorflow-object-detection-api) (0.4.2)\n",
            "Requirement already satisfied: entrypoints>=0.2.2 in /usr/local/lib/python3.6/dist-packages (from nbconvert->jupyter->tensorflow-object-detection-api) (0.3)\n",
            "Requirement already satisfied: pandocfilters>=1.4.1 in /usr/local/lib/python3.6/dist-packages (from nbconvert->jupyter->tensorflow-object-detection-api) (1.4.2)\n",
            "Requirement already satisfied: defusedxml in /usr/local/lib/python3.6/dist-packages (from nbconvert->jupyter->tensorflow-object-detection-api) (0.6.0)\n",
            "Requirement already satisfied: nbformat>=4.4 in /usr/local/lib/python3.6/dist-packages (from nbconvert->jupyter->tensorflow-object-detection-api) (5.0.4)\n",
            "Requirement already satisfied: jinja2>=2.4 in /usr/local/lib/python3.6/dist-packages (from nbconvert->jupyter->tensorflow-object-detection-api) (2.11.1)\n",
            "Requirement already satisfied: mistune<2,>=0.8.1 in /usr/local/lib/python3.6/dist-packages (from nbconvert->jupyter->tensorflow-object-detection-api) (0.8.4)\n",
            "Requirement already satisfied: testpath in /usr/local/lib/python3.6/dist-packages (from nbconvert->jupyter->tensorflow-object-detection-api) (0.4.4)\n",
            "Requirement already satisfied: traitlets>=4.2 in /usr/local/lib/python3.6/dist-packages (from nbconvert->jupyter->tensorflow-object-detection-api) (4.3.3)\n",
            "Requirement already satisfied: jupyter-core in /usr/local/lib/python3.6/dist-packages (from nbconvert->jupyter->tensorflow-object-detection-api) (4.6.2)\n",
            "Requirement already satisfied: widgetsnbextension~=3.5.0 in /usr/local/lib/python3.6/dist-packages (from ipywidgets->jupyter->tensorflow-object-detection-api) (3.5.1)\n",
            "Requirement already satisfied: ipython>=4.0.0; python_version >= \"3.3\" in /usr/local/lib/python3.6/dist-packages (from ipywidgets->jupyter->tensorflow-object-detection-api) (5.5.0)\n",
            "Requirement already satisfied: ipython-genutils in /usr/local/lib/python3.6/dist-packages (from qtconsole->jupyter->tensorflow-object-detection-api) (0.2.0)\n",
            "Requirement already satisfied: jupyter-client>=4.1 in /usr/local/lib/python3.6/dist-packages (from qtconsole->jupyter->tensorflow-object-detection-api) (5.3.4)\n",
            "Requirement already satisfied: prompt-toolkit<2.0.0,>=1.0.0 in /usr/local/lib/python3.6/dist-packages (from jupyter-console->jupyter->tensorflow-object-detection-api) (1.0.18)\n",
            "Requirement already satisfied: tornado>=4 in /usr/local/lib/python3.6/dist-packages (from notebook->jupyter->tensorflow-object-detection-api) (4.5.3)\n",
            "Requirement already satisfied: terminado>=0.3.3; sys_platform != \"win32\" in /usr/local/lib/python3.6/dist-packages (from notebook->jupyter->tensorflow-object-detection-api) (0.8.3)\n",
            "Requirement already satisfied: pyasn1-modules>=0.2.1 in /tensorflow-2.1.0/python3.6 (from google-auth<2,>=1.6.3->tensorboard<2.2.0,>=2.1.0->tensorflow->tensorflow-object-detection-api) (0.2.8)\n",
            "Requirement already satisfied: cachetools<5.0,>=2.0.0 in /tensorflow-2.1.0/python3.6 (from google-auth<2,>=1.6.3->tensorboard<2.2.0,>=2.1.0->tensorflow->tensorflow-object-detection-api) (4.0.0)\n",
            "Requirement already satisfied: rsa<4.1,>=3.1.4 in /tensorflow-2.1.0/python3.6 (from google-auth<2,>=1.6.3->tensorboard<2.2.0,>=2.1.0->tensorflow->tensorflow-object-detection-api) (4.0)\n",
            "Requirement already satisfied: requests-oauthlib>=0.7.0 in /tensorflow-2.1.0/python3.6 (from google-auth-oauthlib<0.5,>=0.4.1->tensorboard<2.2.0,>=2.1.0->tensorflow->tensorflow-object-detection-api) (1.3.0)\n",
            "Requirement already satisfied: webencodings in /usr/local/lib/python3.6/dist-packages (from bleach>=2.1.0->readme-renderer>=21.0->twine->tensorflow-object-detection-api) (0.5.1)\n",
            "Requirement already satisfied: cryptography in /usr/local/lib/python3.6/dist-packages (from SecretStorage>=3; sys_platform == \"linux\"->keyring>=15.1->twine->tensorflow-object-detection-api) (2.8)\n",
            "Requirement already satisfied: jsonschema!=2.5.0,>=2.4 in /usr/local/lib/python3.6/dist-packages (from nbformat>=4.4->nbconvert->jupyter->tensorflow-object-detection-api) (2.6.0)\n",
            "Requirement already satisfied: MarkupSafe>=0.23 in /usr/local/lib/python3.6/dist-packages (from jinja2>=2.4->nbconvert->jupyter->tensorflow-object-detection-api) (1.1.1)\n",
            "Requirement already satisfied: decorator in /usr/local/lib/python3.6/dist-packages (from traitlets>=4.2->nbconvert->jupyter->tensorflow-object-detection-api) (4.4.1)\n",
            "Requirement already satisfied: simplegeneric>0.8 in /usr/local/lib/python3.6/dist-packages (from ipython>=4.0.0; python_version >= \"3.3\"->ipywidgets->jupyter->tensorflow-object-detection-api) (0.8.1)\n",
            "Requirement already satisfied: pexpect; sys_platform != \"win32\" in /usr/local/lib/python3.6/dist-packages (from ipython>=4.0.0; python_version >= \"3.3\"->ipywidgets->jupyter->tensorflow-object-detection-api) (4.8.0)\n",
            "Requirement already satisfied: pickleshare in /usr/local/lib/python3.6/dist-packages (from ipython>=4.0.0; python_version >= \"3.3\"->ipywidgets->jupyter->tensorflow-object-detection-api) (0.7.5)\n",
            "Requirement already satisfied: pyzmq>=13 in /usr/local/lib/python3.6/dist-packages (from jupyter-client>=4.1->qtconsole->jupyter->tensorflow-object-detection-api) (17.0.0)\n",
            "Requirement already satisfied: wcwidth in /usr/local/lib/python3.6/dist-packages (from prompt-toolkit<2.0.0,>=1.0.0->jupyter-console->jupyter->tensorflow-object-detection-api) (0.1.8)\n",
            "Requirement already satisfied: ptyprocess; os_name != \"nt\" in /usr/local/lib/python3.6/dist-packages (from terminado>=0.3.3; sys_platform != \"win32\"->notebook->jupyter->tensorflow-object-detection-api) (0.6.0)\n",
            "Requirement already satisfied: pyasn1<0.5.0,>=0.4.6 in /tensorflow-2.1.0/python3.6 (from pyasn1-modules>=0.2.1->google-auth<2,>=1.6.3->tensorboard<2.2.0,>=2.1.0->tensorflow->tensorflow-object-detection-api) (0.4.8)\n",
            "Requirement already satisfied: oauthlib>=3.0.0 in /tensorflow-2.1.0/python3.6 (from requests-oauthlib>=0.7.0->google-auth-oauthlib<0.5,>=0.4.1->tensorboard<2.2.0,>=2.1.0->tensorflow->tensorflow-object-detection-api) (3.1.0)\n",
            "Requirement already satisfied: cffi!=1.11.3,>=1.8 in /usr/local/lib/python3.6/dist-packages (from cryptography->SecretStorage>=3; sys_platform == \"linux\"->keyring>=15.1->twine->tensorflow-object-detection-api) (1.14.0)\n",
            "Requirement already satisfied: pycparser in /usr/local/lib/python3.6/dist-packages (from cffi!=1.11.3,>=1.8->cryptography->SecretStorage>=3; sys_platform == \"linux\"->keyring>=15.1->twine->tensorflow-object-detection-api) (2.19)\n"
          ],
          "name": "stdout"
        }
      ]
    },
    {
      "cell_type": "code",
      "metadata": {
        "id": "LfUidn1KW9sw",
        "colab_type": "code",
        "colab": {}
      },
      "source": [
        "from object_detection.utils import ops as utils_ops\n",
        "from object_detection.utils import label_map_util\n",
        "from object_detection.utils import visualization_utils as vis_util"
      ],
      "execution_count": 0,
      "outputs": []
    },
    {
      "cell_type": "code",
      "metadata": {
        "id": "2cryz2OfXAUA",
        "colab_type": "code",
        "colab": {}
      },
      "source": [
        "# patch tf1 into `utils.ops`\n",
        "utils_ops.tensorflow = tensorflow.compat.v1\n",
        "\n",
        "# Patch the location of gfile\n",
        "tensorflow.gfile = tensorflow.io.gfile"
      ],
      "execution_count": 0,
      "outputs": []
    },
    {
      "cell_type": "markdown",
      "metadata": {
        "colab_type": "text",
        "id": "VvWl3ebqzCc1"
      },
      "source": [
        "# Instructions\n",
        "- Some parts of the code are already done for you\n",
        "- You need to execute all the cells\n",
        "- You need to add the code where ever you see `\"#### Add your code here ####\"`\n",
        "- Marks are mentioned along with the cells"
      ]
    },
    {
      "cell_type": "markdown",
      "metadata": {
        "colab_type": "text",
        "id": "NgR0j5310qqC"
      },
      "source": [
        "# Face detection\n",
        "Task is to predict the boundaries(mask) around the face in a given image."
      ]
    },
    {
      "cell_type": "markdown",
      "metadata": {
        "colab_type": "text",
        "id": "Aa0jyJzw091I"
      },
      "source": [
        "## Dataset\n",
        "Faces in images marked with bounding boxes. Have around 500 images with around 1100 faces manually tagged via bounding box."
      ]
    },
    {
      "cell_type": "markdown",
      "metadata": {
        "colab_type": "text",
        "id": "CjRTlPkp1LC2"
      },
      "source": [
        "### Mount Google drive if you are using google colab\n",
        "- We recommend using Google Colab as you can face memory issues and longer runtimes while running on local"
      ]
    },
    {
      "cell_type": "code",
      "metadata": {
        "colab_type": "code",
        "id": "sBWMoTJ9cf3Z",
        "colab": {
          "base_uri": "https://localhost:8080/",
          "height": 54
        },
        "outputId": "810f7b7a-c243-454e-f9c3-5b944dfd4bde"
      },
      "source": [
        "from google.colab import drive\n",
        "drive.mount('/content/drive')"
      ],
      "execution_count": 10,
      "outputs": [
        {
          "output_type": "stream",
          "text": [
            "Drive already mounted at /content/drive; to attempt to forcibly remount, call drive.mount(\"/content/drive\", force_remount=True).\n"
          ],
          "name": "stdout"
        }
      ]
    },
    {
      "cell_type": "markdown",
      "metadata": {
        "colab_type": "text",
        "id": "sO9mgMmp13sI"
      },
      "source": [
        "### Change current working directory to project folder (1 mark)"
      ]
    },
    {
      "cell_type": "code",
      "metadata": {
        "id": "txKaDBOESvXV",
        "colab_type": "code",
        "colab": {}
      },
      "source": [
        "%%bash\n",
        "cd \"/content/drive/My Drive/ComputerVisionProjectData/ObjDetection/\""
      ],
      "execution_count": 0,
      "outputs": []
    },
    {
      "cell_type": "markdown",
      "metadata": {
        "colab_type": "text",
        "id": "3srplE-FEpKa"
      },
      "source": [
        "### Load the \"images.npy\" file (4 marks)\n",
        "- This file contains images with details of bounding boxes"
      ]
    },
    {
      "cell_type": "code",
      "metadata": {
        "colab_type": "code",
        "id": "MqFE_tZDf0sM",
        "colab": {}
      },
      "source": [
        "import numpy as np\n",
        "data = np.load('/content/drive/My Drive/ComputerVisionProjectData/ObjDetection/images.npy', allow_pickle=True)"
      ],
      "execution_count": 0,
      "outputs": []
    },
    {
      "cell_type": "code",
      "metadata": {
        "id": "bspRpJW_UzTJ",
        "colab_type": "code",
        "colab": {
          "base_uri": "https://localhost:8080/",
          "height": 34
        },
        "outputId": "b7cac53e-4c53-43b7-fd0d-2e761d0513eb"
      },
      "source": [
        "data.shape"
      ],
      "execution_count": 13,
      "outputs": [
        {
          "output_type": "execute_result",
          "data": {
            "text/plain": [
              "(409, 2)"
            ]
          },
          "metadata": {
            "tags": []
          },
          "execution_count": 13
        }
      ]
    },
    {
      "cell_type": "markdown",
      "metadata": {
        "colab_type": "text",
        "id": "_SMP8zliFT7R"
      },
      "source": [
        "### Check one sample from the loaded \"images.npy\" file  (4 marks)"
      ]
    },
    {
      "cell_type": "code",
      "metadata": {
        "id": "2UdvlItx5LOi",
        "colab_type": "code",
        "colab": {}
      },
      "source": [
        "from matplotlib import pyplot as plt\n",
        "\n",
        "plt.imshow(data[0][0])\n",
        "plt.show()"
      ],
      "execution_count": 0,
      "outputs": []
    },
    {
      "cell_type": "markdown",
      "metadata": {
        "colab_type": "text",
        "id": "m94G4p3CE5Cj"
      },
      "source": [
        "### Set image dimensions   (2 marks)\n",
        "- Initialize image height, image width with value: 224 "
      ]
    },
    {
      "cell_type": "code",
      "metadata": {
        "colab_type": "code",
        "id": "kuZmtOASevDo",
        "colab": {}
      },
      "source": [
        "IMAGE_WIDTH = 224\n",
        "IMAGE_HEIGHT = 224"
      ],
      "execution_count": 0,
      "outputs": []
    },
    {
      "cell_type": "markdown",
      "metadata": {
        "colab_type": "text",
        "id": "wY6FEsCjG47s"
      },
      "source": [
        "### Create features and labels\n",
        "- Here feature is the image\n",
        "- The label is the mask\n",
        "- Images will be stored in \"X_train\" array\n",
        "- Masks will be stored in \"masks\" array"
      ]
    },
    {
      "cell_type": "code",
      "metadata": {
        "colab_type": "code",
        "id": "XjCT9EVTgAvr",
        "colab": {}
      },
      "source": [
        "import cv2\n",
        "from tensorflow.keras.applications.mobilenet import preprocess_input\n",
        "\n",
        "masks = np.zeros((int(data.shape[0]), IMAGE_HEIGHT, IMAGE_WIDTH))\n",
        "X_train = np.zeros((int(data.shape[0]), IMAGE_HEIGHT, IMAGE_WIDTH, 3))\n",
        "for index in range(data.shape[0]):\n",
        "    img = data[index][0]\n",
        "    img = cv2.resize(img, dsize=(IMAGE_HEIGHT, IMAGE_WIDTH), interpolation=cv2.INTER_CUBIC)\n",
        "    try:\n",
        "      img = img[:, :, :3]\n",
        "    except:\n",
        "      continue\n",
        "    X_train[index] = preprocess_input(np.array(img, dtype=np.float32))\n",
        "    for i in data[index][1]:\n",
        "        x1 = int(i[\"points\"][0]['x'] * IMAGE_WIDTH)\n",
        "        x2 = int(i[\"points\"][1]['x'] * IMAGE_WIDTH)\n",
        "        y1 = int(i[\"points\"][0]['y'] * IMAGE_HEIGHT)\n",
        "        y2 = int(i[\"points\"][1]['y'] * IMAGE_HEIGHT)\n",
        "        masks[index][y1:y2, x1:x2] = 1"
      ],
      "execution_count": 0,
      "outputs": []
    },
    {
      "cell_type": "markdown",
      "metadata": {
        "colab_type": "text",
        "id": "N3AYbP79bFtJ"
      },
      "source": [
        "### Print the shape of X_train and mask array  (1 mark)"
      ]
    },
    {
      "cell_type": "code",
      "metadata": {
        "colab_type": "code",
        "id": "3PIRaEdWIjDa",
        "colab": {
          "base_uri": "https://localhost:8080/",
          "height": 34
        },
        "outputId": "ff752b98-0698-4769-95d6-ef39e1ca0cea"
      },
      "source": [
        "#### Add your code here ####\n",
        "X_train.shape"
      ],
      "execution_count": 17,
      "outputs": [
        {
          "output_type": "execute_result",
          "data": {
            "text/plain": [
              "(409, 224, 224, 3)"
            ]
          },
          "metadata": {
            "tags": []
          },
          "execution_count": 17
        }
      ]
    },
    {
      "cell_type": "code",
      "metadata": {
        "colab_type": "code",
        "id": "Gw6uH5DxgI_r",
        "colab": {
          "base_uri": "https://localhost:8080/",
          "height": 34
        },
        "outputId": "27841b41-648f-4b92-a5a9-0191310bcf07"
      },
      "source": [
        "#### Add your code here ####\n",
        "masks.shape"
      ],
      "execution_count": 18,
      "outputs": [
        {
          "output_type": "execute_result",
          "data": {
            "text/plain": [
              "(409, 224, 224)"
            ]
          },
          "metadata": {
            "tags": []
          },
          "execution_count": 18
        }
      ]
    },
    {
      "cell_type": "markdown",
      "metadata": {
        "colab_type": "text",
        "id": "R4wgkWq1bk5F"
      },
      "source": [
        "### Print a sample image and image array"
      ]
    },
    {
      "cell_type": "code",
      "metadata": {
        "colab_type": "code",
        "id": "qfRZjQufj0N9",
        "colab": {
          "base_uri": "https://localhost:8080/",
          "height": 867
        },
        "outputId": "47c24eaa-d586-4f7a-d546-0017f3cf6964"
      },
      "source": [
        "from matplotlib import pyplot\n",
        "n = 10\n",
        "print(X_train[n])\n",
        "pyplot.imshow(X_train[n])\n",
        "pyplot.show()"
      ],
      "execution_count": 19,
      "outputs": [
        {
          "output_type": "stream",
          "text": [
            "Clipping input data to the valid range for imshow with RGB data ([0..1] for floats or [0..255] for integers).\n"
          ],
          "name": "stderr"
        },
        {
          "output_type": "stream",
          "text": [
            "[[[-0.98431373 -0.98431373 -0.98431373]\n",
            "  [-0.98431373 -0.98431373 -0.98431373]\n",
            "  [-0.98431373 -0.98431373 -0.98431373]\n",
            "  ...\n",
            "  [-1.         -1.         -1.        ]\n",
            "  [-1.         -1.         -1.        ]\n",
            "  [-1.         -1.         -1.        ]]\n",
            "\n",
            " [[-0.98431373 -0.98431373 -0.98431373]\n",
            "  [-0.98431373 -0.98431373 -0.98431373]\n",
            "  [-0.98431373 -0.98431373 -0.98431373]\n",
            "  ...\n",
            "  [-1.         -1.         -1.        ]\n",
            "  [-1.         -1.         -1.        ]\n",
            "  [-1.         -1.         -1.        ]]\n",
            "\n",
            " [[-0.98431373 -0.98431373 -0.98431373]\n",
            "  [-0.98431373 -0.98431373 -0.98431373]\n",
            "  [-0.98431373 -0.98431373 -0.98431373]\n",
            "  ...\n",
            "  [-1.         -1.         -1.        ]\n",
            "  [-1.         -1.         -1.        ]\n",
            "  [-1.         -1.         -1.        ]]\n",
            "\n",
            " ...\n",
            "\n",
            " [[-1.         -1.         -1.        ]\n",
            "  [-1.         -1.         -1.        ]\n",
            "  [-1.         -1.         -1.        ]\n",
            "  ...\n",
            "  [-0.96862745 -0.96862745 -0.96862745]\n",
            "  [-0.96078432 -0.96078432 -0.96078432]\n",
            "  [-0.96078432 -0.96078432 -0.96078432]]\n",
            "\n",
            " [[-1.         -1.         -1.        ]\n",
            "  [-1.         -1.         -1.        ]\n",
            "  [-1.         -1.         -1.        ]\n",
            "  ...\n",
            "  [-0.96862745 -0.96862745 -0.96862745]\n",
            "  [-0.96078432 -0.96078432 -0.96078432]\n",
            "  [-0.95294118 -0.95294118 -0.95294118]]\n",
            "\n",
            " [[-1.         -1.         -1.        ]\n",
            "  [-1.         -1.         -1.        ]\n",
            "  [-1.         -1.         -1.        ]\n",
            "  ...\n",
            "  [-0.97647059 -0.97647059 -0.97647059]\n",
            "  [-0.96862745 -0.96862745 -0.96862745]\n",
            "  [-0.96078432 -0.96078432 -0.96078432]]]\n"
          ],
          "name": "stdout"
        }
      ]
    },
    {
      "cell_type": "code",
      "metadata": {
        "colab_type": "code",
        "id": "983gGKcwlSe8",
        "colab": {
          "base_uri": "https://localhost:8080/",
          "height": 286
        },
        "outputId": "d7a0f6d1-43ef-40f5-8eb4-c69b32889192"
      },
      "source": [
        "%matplotlib inline\n",
        "pyplot.imshow(masks[n])"
      ],
      "execution_count": 20,
      "outputs": [
        {
          "output_type": "execute_result",
          "data": {
            "text/plain": [
              "<matplotlib.image.AxesImage at 0x7fa70c5d1780>"
            ]
          },
          "metadata": {
            "tags": []
          },
          "execution_count": 20
        },
        {
          "output_type": "display_data",
          "data": {
            "image/png": "[encoded data removed]",
            "text/plain": [
              "<Figure size 432x288 with 1 Axes>"
            ]
          },
          "metadata": {
            "tags": []
          }
        }
      ]
    },
    {
      "cell_type": "markdown",
      "metadata": {
        "colab_type": "text",
        "id": "Z0Qa1UOue9TE"
      },
      "source": [
        "## Create the model (10 marks)\n",
        "- Add MobileNet as model with below parameter values\n",
        "  - input_shape: IMAGE_HEIGHT, IMAGE_WIDTH, 3\n",
        "  - include_top: False\n",
        "  - alpha: 1.0\n",
        "  - weights: \"imagenet\"\n",
        "- Add UNET architecture layers\n",
        "  - This is the trickiest part of the project, you need to research and implement it correctly"
      ]
    },
    {
      "cell_type": "code",
      "metadata": {
        "colab_type": "code",
        "id": "BTVYOvANrUVx",
        "colab": {}
      },
      "source": [
        "from tensorflow.keras.applications.mobilenet import MobileNet\n",
        "from tensorflow.keras.layers import Concatenate, UpSampling2D, Conv2D, Reshape\n",
        "from tensorflow.keras.models import Model\n",
        "\n",
        "\n",
        "def create_model(trainable=True):\n",
        "    IMG_SHAPE = (IMAGE_HEIGHT, IMAGE_WIDTH, 3)\n",
        "    #ref https://keras.io/applications/#mobilenet\n",
        "    model = MobileNet(input_shape=IMG_SHAPE, alpha = 1.0, include_top=False, weights='imagenet')\n",
        "    for layer in model.layers:\n",
        "        layer.trainable = trainable\n",
        "\n",
        "    # Add all the UNET layers here\n",
        "    #ref https://stackoverflow.com/questions/59154560/how-can-i-feed-the-output-from-last-layer-of-mobilenet-to-a-unet-model\n",
        "    block0 = model.get_layer(\"conv_pw_1_relu\").output \n",
        "    block = model.get_layer(\"conv_pw_1_relu\").output\n",
        "    block1 = model.get_layer(\"conv_pw_3_relu\").output\n",
        "    block2 = model.get_layer(\"conv_pw_5_relu\").output\n",
        "    block3 = model.get_layer(\"conv_pw_11_relu\").output\n",
        "    block4 = model.get_layer(\"conv_pw_13_relu\").output\n",
        "\n",
        "    x = Concatenate()([UpSampling2D()(block4), block3])\n",
        "    x = Concatenate()([UpSampling2D()(x), block2])\n",
        "    x = Concatenate()([UpSampling2D()(x), block1])\n",
        "    x = Concatenate()([UpSampling2D()(x), block])\n",
        " #   x = Concatenate()([UpSampling2D()(x), block0])\n",
        "    x = UpSampling2D()(x)\n",
        "    x = Conv2D(1, kernel_size=1, activation=\"sigmoid\")(x)\n",
        "\n",
        "    x = Reshape((IMAGE_HEIGHT, IMAGE_HEIGHT))(x)\n",
        "\n",
        "    return Model(inputs=model.input, outputs=x)"
      ],
      "execution_count": 0,
      "outputs": []
    },
    {
      "cell_type": "markdown",
      "metadata": {
        "colab_type": "text",
        "id": "_snZ9o0ZBAiv"
      },
      "source": [
        "### Call the create_model function"
      ]
    },
    {
      "cell_type": "code",
      "metadata": {
        "colab_type": "code",
        "id": "9TfSSP51uPoO",
        "colab": {
          "base_uri": "https://localhost:8080/",
          "height": 1000
        },
        "outputId": "a1abdcca-008d-4e3d-86be-150b367524e3"
      },
      "source": [
        "# Give trainable=False as argument, if you want to freeze lower layers for fast training (but low accuracy)\n",
        "model = create_model()\n",
        "#model.name=\"MobileNetUnet\"\n",
        "\n",
        "# Print summary\n",
        "model.summary()"
      ],
      "execution_count": 22,
      "outputs": [
        {
          "output_type": "stream",
          "text": [
            "Model: \"model\"\n",
            "__________________________________________________________________________________________________\n",
            "Layer (type)                    Output Shape         Param #     Connected to                     \n",
            "==================================================================================================\n",
            "input_1 (InputLayer)            [(None, 224, 224, 3) 0                                            \n",
            "__________________________________________________________________________________________________\n",
            "conv1_pad (ZeroPadding2D)       (None, 225, 225, 3)  0           input_1[0][0]                    \n",
            "__________________________________________________________________________________________________\n",
            "conv1 (Conv2D)                  (None, 112, 112, 32) 864         conv1_pad[0][0]                  \n",
            "__________________________________________________________________________________________________\n",
            "conv1_bn (BatchNormalization)   (None, 112, 112, 32) 128         conv1[0][0]                      \n",
            "__________________________________________________________________________________________________\n",
            "conv1_relu (ReLU)               (None, 112, 112, 32) 0           conv1_bn[0][0]                   \n",
            "__________________________________________________________________________________________________\n",
            "conv_dw_1 (DepthwiseConv2D)     (None, 112, 112, 32) 288         conv1_relu[0][0]                 \n",
            "__________________________________________________________________________________________________\n",
            "conv_dw_1_bn (BatchNormalizatio (None, 112, 112, 32) 128         conv_dw_1[0][0]                  \n",
            "__________________________________________________________________________________________________\n",
            "conv_dw_1_relu (ReLU)           (None, 112, 112, 32) 0           conv_dw_1_bn[0][0]               \n",
            "__________________________________________________________________________________________________\n",
            "conv_pw_1 (Conv2D)              (None, 112, 112, 64) 2048        conv_dw_1_relu[0][0]             \n",
            "__________________________________________________________________________________________________\n",
            "conv_pw_1_bn (BatchNormalizatio (None, 112, 112, 64) 256         conv_pw_1[0][0]                  \n",
            "__________________________________________________________________________________________________\n",
            "conv_pw_1_relu (ReLU)           (None, 112, 112, 64) 0           conv_pw_1_bn[0][0]               \n",
            "__________________________________________________________________________________________________\n",
            "conv_pad_2 (ZeroPadding2D)      (None, 113, 113, 64) 0           conv_pw_1_relu[0][0]             \n",
            "__________________________________________________________________________________________________\n",
            "conv_dw_2 (DepthwiseConv2D)     (None, 56, 56, 64)   576         conv_pad_2[0][0]                 \n",
            "__________________________________________________________________________________________________\n",
            "conv_dw_2_bn (BatchNormalizatio (None, 56, 56, 64)   256         conv_dw_2[0][0]                  \n",
            "__________________________________________________________________________________________________\n",
            "conv_dw_2_relu (ReLU)           (None, 56, 56, 64)   0           conv_dw_2_bn[0][0]               \n",
            "__________________________________________________________________________________________________\n",
            "conv_pw_2 (Conv2D)              (None, 56, 56, 128)  8192        conv_dw_2_relu[0][0]             \n",
            "__________________________________________________________________________________________________\n",
            "conv_pw_2_bn (BatchNormalizatio (None, 56, 56, 128)  512         conv_pw_2[0][0]                  \n",
            "__________________________________________________________________________________________________\n",
            "conv_pw_2_relu (ReLU)           (None, 56, 56, 128)  0           conv_pw_2_bn[0][0]               \n",
            "__________________________________________________________________________________________________\n",
            "conv_dw_3 (DepthwiseConv2D)     (None, 56, 56, 128)  1152        conv_pw_2_relu[0][0]             \n",
            "__________________________________________________________________________________________________\n",
            "conv_dw_3_bn (BatchNormalizatio (None, 56, 56, 128)  512         conv_dw_3[0][0]                  \n",
            "__________________________________________________________________________________________________\n",
            "conv_dw_3_relu (ReLU)           (None, 56, 56, 128)  0           conv_dw_3_bn[0][0]               \n",
            "__________________________________________________________________________________________________\n",
            "conv_pw_3 (Conv2D)              (None, 56, 56, 128)  16384       conv_dw_3_relu[0][0]             \n",
            "__________________________________________________________________________________________________\n",
            "conv_pw_3_bn (BatchNormalizatio (None, 56, 56, 128)  512         conv_pw_3[0][0]                  \n",
            "__________________________________________________________________________________________________\n",
            "conv_pw_3_relu (ReLU)           (None, 56, 56, 128)  0           conv_pw_3_bn[0][0]               \n",
            "__________________________________________________________________________________________________\n",
            "conv_pad_4 (ZeroPadding2D)      (None, 57, 57, 128)  0           conv_pw_3_relu[0][0]             \n",
            "__________________________________________________________________________________________________\n",
            "conv_dw_4 (DepthwiseConv2D)     (None, 28, 28, 128)  1152        conv_pad_4[0][0]                 \n",
            "__________________________________________________________________________________________________\n",
            "conv_dw_4_bn (BatchNormalizatio (None, 28, 28, 128)  512         conv_dw_4[0][0]                  \n",
            "__________________________________________________________________________________________________\n",
            "conv_dw_4_relu (ReLU)           (None, 28, 28, 128)  0           conv_dw_4_bn[0][0]               \n",
            "__________________________________________________________________________________________________\n",
            "conv_pw_4 (Conv2D)              (None, 28, 28, 256)  32768       conv_dw_4_relu[0][0]             \n",
            "__________________________________________________________________________________________________\n",
            "conv_pw_4_bn (BatchNormalizatio (None, 28, 28, 256)  1024        conv_pw_4[0][0]                  \n",
            "__________________________________________________________________________________________________\n",
            "conv_pw_4_relu (ReLU)           (None, 28, 28, 256)  0           conv_pw_4_bn[0][0]               \n",
            "__________________________________________________________________________________________________\n",
            "conv_dw_5 (DepthwiseConv2D)     (None, 28, 28, 256)  2304        conv_pw_4_relu[0][0]             \n",
            "__________________________________________________________________________________________________\n",
            "conv_dw_5_bn (BatchNormalizatio (None, 28, 28, 256)  1024        conv_dw_5[0][0]                  \n",
            "__________________________________________________________________________________________________\n",
            "conv_dw_5_relu (ReLU)           (None, 28, 28, 256)  0           conv_dw_5_bn[0][0]               \n",
            "__________________________________________________________________________________________________\n",
            "conv_pw_5 (Conv2D)              (None, 28, 28, 256)  65536       conv_dw_5_relu[0][0]             \n",
            "__________________________________________________________________________________________________\n",
            "conv_pw_5_bn (BatchNormalizatio (None, 28, 28, 256)  1024        conv_pw_5[0][0]                  \n",
            "__________________________________________________________________________________________________\n",
            "conv_pw_5_relu (ReLU)           (None, 28, 28, 256)  0           conv_pw_5_bn[0][0]               \n",
            "__________________________________________________________________________________________________\n",
            "conv_pad_6 (ZeroPadding2D)      (None, 29, 29, 256)  0           conv_pw_5_relu[0][0]             \n",
            "__________________________________________________________________________________________________\n",
            "conv_dw_6 (DepthwiseConv2D)     (None, 14, 14, 256)  2304        conv_pad_6[0][0]                 \n",
            "__________________________________________________________________________________________________\n",
            "conv_dw_6_bn (BatchNormalizatio (None, 14, 14, 256)  1024        conv_dw_6[0][0]                  \n",
            "__________________________________________________________________________________________________\n",
            "conv_dw_6_relu (ReLU)           (None, 14, 14, 256)  0           conv_dw_6_bn[0][0]               \n",
            "__________________________________________________________________________________________________\n",
            "conv_pw_6 (Conv2D)              (None, 14, 14, 512)  131072      conv_dw_6_relu[0][0]             \n",
            "__________________________________________________________________________________________________\n",
            "conv_pw_6_bn (BatchNormalizatio (None, 14, 14, 512)  2048        conv_pw_6[0][0]                  \n",
            "__________________________________________________________________________________________________\n",
            "conv_pw_6_relu (ReLU)           (None, 14, 14, 512)  0           conv_pw_6_bn[0][0]               \n",
            "__________________________________________________________________________________________________\n",
            "conv_dw_7 (DepthwiseConv2D)     (None, 14, 14, 512)  4608        conv_pw_6_relu[0][0]             \n",
            "__________________________________________________________________________________________________\n",
            "conv_dw_7_bn (BatchNormalizatio (None, 14, 14, 512)  2048        conv_dw_7[0][0]                  \n",
            "__________________________________________________________________________________________________\n",
            "conv_dw_7_relu (ReLU)           (None, 14, 14, 512)  0           conv_dw_7_bn[0][0]               \n",
            "__________________________________________________________________________________________________\n",
            "conv_pw_7 (Conv2D)              (None, 14, 14, 512)  262144      conv_dw_7_relu[0][0]             \n",
            "__________________________________________________________________________________________________\n",
            "conv_pw_7_bn (BatchNormalizatio (None, 14, 14, 512)  2048        conv_pw_7[0][0]                  \n",
            "__________________________________________________________________________________________________\n",
            "conv_pw_7_relu (ReLU)           (None, 14, 14, 512)  0           conv_pw_7_bn[0][0]               \n",
            "__________________________________________________________________________________________________\n",
            "conv_dw_8 (DepthwiseConv2D)     (None, 14, 14, 512)  4608        conv_pw_7_relu[0][0]             \n",
            "__________________________________________________________________________________________________\n",
            "conv_dw_8_bn (BatchNormalizatio (None, 14, 14, 512)  2048        conv_dw_8[0][0]                  \n",
            "__________________________________________________________________________________________________\n",
            "conv_dw_8_relu (ReLU)           (None, 14, 14, 512)  0           conv_dw_8_bn[0][0]               \n",
            "__________________________________________________________________________________________________\n",
            "conv_pw_8 (Conv2D)              (None, 14, 14, 512)  262144      conv_dw_8_relu[0][0]             \n",
            "__________________________________________________________________________________________________\n",
            "conv_pw_8_bn (BatchNormalizatio (None, 14, 14, 512)  2048        conv_pw_8[0][0]                  \n",
            "__________________________________________________________________________________________________\n",
            "conv_pw_8_relu (ReLU)           (None, 14, 14, 512)  0           conv_pw_8_bn[0][0]               \n",
            "__________________________________________________________________________________________________\n",
            "conv_dw_9 (DepthwiseConv2D)     (None, 14, 14, 512)  4608        conv_pw_8_relu[0][0]             \n",
            "__________________________________________________________________________________________________\n",
            "conv_dw_9_bn (BatchNormalizatio (None, 14, 14, 512)  2048        conv_dw_9[0][0]                  \n",
            "__________________________________________________________________________________________________\n",
            "conv_dw_9_relu (ReLU)           (None, 14, 14, 512)  0           conv_dw_9_bn[0][0]               \n",
            "__________________________________________________________________________________________________\n",
            "conv_pw_9 (Conv2D)              (None, 14, 14, 512)  262144      conv_dw_9_relu[0][0]             \n",
            "__________________________________________________________________________________________________\n",
            "conv_pw_9_bn (BatchNormalizatio (None, 14, 14, 512)  2048        conv_pw_9[0][0]                  \n",
            "__________________________________________________________________________________________________\n",
            "conv_pw_9_relu (ReLU)           (None, 14, 14, 512)  0           conv_pw_9_bn[0][0]               \n",
            "__________________________________________________________________________________________________\n",
            "conv_dw_10 (DepthwiseConv2D)    (None, 14, 14, 512)  4608        conv_pw_9_relu[0][0]             \n",
            "__________________________________________________________________________________________________\n",
            "conv_dw_10_bn (BatchNormalizati (None, 14, 14, 512)  2048        conv_dw_10[0][0]                 \n",
            "__________________________________________________________________________________________________\n",
            "conv_dw_10_relu (ReLU)          (None, 14, 14, 512)  0           conv_dw_10_bn[0][0]              \n",
            "__________________________________________________________________________________________________\n",
            "conv_pw_10 (Conv2D)             (None, 14, 14, 512)  262144      conv_dw_10_relu[0][0]            \n",
            "__________________________________________________________________________________________________\n",
            "conv_pw_10_bn (BatchNormalizati (None, 14, 14, 512)  2048        conv_pw_10[0][0]                 \n",
            "__________________________________________________________________________________________________\n",
            "conv_pw_10_relu (ReLU)          (None, 14, 14, 512)  0           conv_pw_10_bn[0][0]              \n",
            "__________________________________________________________________________________________________\n",
            "conv_dw_11 (DepthwiseConv2D)    (None, 14, 14, 512)  4608        conv_pw_10_relu[0][0]            \n",
            "__________________________________________________________________________________________________\n",
            "conv_dw_11_bn (BatchNormalizati (None, 14, 14, 512)  2048        conv_dw_11[0][0]                 \n",
            "__________________________________________________________________________________________________\n",
            "conv_dw_11_relu (ReLU)          (None, 14, 14, 512)  0           conv_dw_11_bn[0][0]              \n",
            "__________________________________________________________________________________________________\n",
            "conv_pw_11 (Conv2D)             (None, 14, 14, 512)  262144      conv_dw_11_relu[0][0]            \n",
            "__________________________________________________________________________________________________\n",
            "conv_pw_11_bn (BatchNormalizati (None, 14, 14, 512)  2048        conv_pw_11[0][0]                 \n",
            "__________________________________________________________________________________________________\n",
            "conv_pw_11_relu (ReLU)          (None, 14, 14, 512)  0           conv_pw_11_bn[0][0]              \n",
            "__________________________________________________________________________________________________\n",
            "conv_pad_12 (ZeroPadding2D)     (None, 15, 15, 512)  0           conv_pw_11_relu[0][0]            \n",
            "__________________________________________________________________________________________________\n",
            "conv_dw_12 (DepthwiseConv2D)    (None, 7, 7, 512)    4608        conv_pad_12[0][0]                \n",
            "__________________________________________________________________________________________________\n",
            "conv_dw_12_bn (BatchNormalizati (None, 7, 7, 512)    2048        conv_dw_12[0][0]                 \n",
            "__________________________________________________________________________________________________\n",
            "conv_dw_12_relu (ReLU)          (None, 7, 7, 512)    0           conv_dw_12_bn[0][0]              \n",
            "__________________________________________________________________________________________________\n",
            "conv_pw_12 (Conv2D)             (None, 7, 7, 1024)   524288      conv_dw_12_relu[0][0]            \n",
            "__________________________________________________________________________________________________\n",
            "conv_pw_12_bn (BatchNormalizati (None, 7, 7, 1024)   4096        conv_pw_12[0][0]                 \n",
            "__________________________________________________________________________________________________\n",
            "conv_pw_12_relu (ReLU)          (None, 7, 7, 1024)   0           conv_pw_12_bn[0][0]              \n",
            "__________________________________________________________________________________________________\n",
            "conv_dw_13 (DepthwiseConv2D)    (None, 7, 7, 1024)   9216        conv_pw_12_relu[0][0]            \n",
            "__________________________________________________________________________________________________\n",
            "conv_dw_13_bn (BatchNormalizati (None, 7, 7, 1024)   4096        conv_dw_13[0][0]                 \n",
            "__________________________________________________________________________________________________\n",
            "conv_dw_13_relu (ReLU)          (None, 7, 7, 1024)   0           conv_dw_13_bn[0][0]              \n",
            "__________________________________________________________________________________________________\n",
            "conv_pw_13 (Conv2D)             (None, 7, 7, 1024)   1048576     conv_dw_13_relu[0][0]            \n",
            "__________________________________________________________________________________________________\n",
            "conv_pw_13_bn (BatchNormalizati (None, 7, 7, 1024)   4096        conv_pw_13[0][0]                 \n",
            "__________________________________________________________________________________________________\n",
            "conv_pw_13_relu (ReLU)          (None, 7, 7, 1024)   0           conv_pw_13_bn[0][0]              \n",
            "__________________________________________________________________________________________________\n",
            "up_sampling2d (UpSampling2D)    (None, 14, 14, 1024) 0           conv_pw_13_relu[0][0]            \n",
            "__________________________________________________________________________________________________\n",
            "concatenate (Concatenate)       (None, 14, 14, 1536) 0           up_sampling2d[0][0]              \n",
            "                                                                 conv_pw_11_relu[0][0]            \n",
            "__________________________________________________________________________________________________\n",
            "up_sampling2d_1 (UpSampling2D)  (None, 28, 28, 1536) 0           concatenate[0][0]                \n",
            "__________________________________________________________________________________________________\n",
            "concatenate_1 (Concatenate)     (None, 28, 28, 1792) 0           up_sampling2d_1[0][0]            \n",
            "                                                                 conv_pw_5_relu[0][0]             \n",
            "__________________________________________________________________________________________________\n",
            "up_sampling2d_2 (UpSampling2D)  (None, 56, 56, 1792) 0           concatenate_1[0][0]              \n",
            "__________________________________________________________________________________________________\n",
            "concatenate_2 (Concatenate)     (None, 56, 56, 1920) 0           up_sampling2d_2[0][0]            \n",
            "                                                                 conv_pw_3_relu[0][0]             \n",
            "__________________________________________________________________________________________________\n",
            "up_sampling2d_3 (UpSampling2D)  (None, 112, 112, 192 0           concatenate_2[0][0]              \n",
            "__________________________________________________________________________________________________\n",
            "concatenate_3 (Concatenate)     (None, 112, 112, 198 0           up_sampling2d_3[0][0]            \n",
            "                                                                 conv_pw_1_relu[0][0]             \n",
            "__________________________________________________________________________________________________\n",
            "up_sampling2d_4 (UpSampling2D)  (None, 224, 224, 198 0           concatenate_3[0][0]              \n",
            "__________________________________________________________________________________________________\n",
            "conv2d (Conv2D)                 (None, 224, 224, 1)  1985        up_sampling2d_4[0][0]            \n",
            "__________________________________________________________________________________________________\n",
            "reshape (Reshape)               (None, 224, 224)     0           conv2d[0][0]                     \n",
            "==================================================================================================\n",
            "Total params: 3,230,849\n",
            "Trainable params: 3,208,961\n",
            "Non-trainable params: 21,888\n",
            "__________________________________________________________________________________________________\n"
          ],
          "name": "stdout"
        }
      ]
    },
    {
      "cell_type": "markdown",
      "metadata": {
        "colab_type": "text",
        "id": "2spcE4TvfEZw"
      },
      "source": [
        "### Define dice coefficient function (5 marks)\n",
        "- Create a function to calculate dice coefficient\n"
      ]
    },
    {
      "cell_type": "code",
      "metadata": {
        "colab_type": "code",
        "id": "8H8aViXZuWz1",
        "colab": {}
      },
      "source": [
        "def dice_coefficient(y_true, y_pred):\n",
        "    smooth = 1.\n",
        "    y_true_f = tensorflow.keras.backend.flatten(y_true)\n",
        "    y_pred_f = tensorflow.keras.backend.flatten(y_pred)\n",
        "    intersection = tensorflow.keras.backend.sum(y_true_f * y_pred_f)\n",
        "    return (2. * intersection + smooth) / (tensorflow.keras.backend.sum(y_true_f) + tensorflow.keras.backend.sum(y_pred_f) + smooth)"
      ],
      "execution_count": 0,
      "outputs": []
    },
    {
      "cell_type": "markdown",
      "metadata": {
        "colab_type": "text",
        "id": "Nkp5SDM1fIu2"
      },
      "source": [
        "### Define loss"
      ]
    },
    {
      "cell_type": "code",
      "metadata": {
        "colab_type": "code",
        "id": "FEOVfs19KVLv",
        "colab": {}
      },
      "source": [
        "from tensorflow.keras.losses import binary_crossentropy\n",
        "from tensorflow.keras.backend import log, epsilon\n",
        "def loss(y_true, y_pred):\n",
        "    return binary_crossentropy(y_true, y_pred) - log(dice_coefficient(y_true, y_pred) + epsilon())"
      ],
      "execution_count": 0,
      "outputs": []
    },
    {
      "cell_type": "markdown",
      "metadata": {
        "colab_type": "text",
        "id": "Thltv_akfOMS"
      },
      "source": [
        "### Compile the model (5 marks)\n",
        "- Complie the model using below parameters\n",
        "  - loss: use the loss function defined above\n",
        "  - optimizers: use Adam optimizer\n",
        "  - metrics: use dice_coefficient function defined above"
      ]
    },
    {
      "cell_type": "code",
      "metadata": {
        "id": "KsjUoqhH5LPi",
        "colab_type": "code",
        "colab": {}
      },
      "source": [
        "adam = tensorflow.keras.optimizers.Adam(learning_rate=0.0001)\n",
        "model.compile(adam, loss=loss, metrics=[dice_coefficient])"
      ],
      "execution_count": 0,
      "outputs": []
    },
    {
      "cell_type": "markdown",
      "metadata": {
        "colab_type": "text",
        "id": "VTumZyg0fuVy"
      },
      "source": [
        "### Define checkpoint and earlystopping"
      ]
    },
    {
      "cell_type": "code",
      "metadata": {
        "colab_type": "code",
        "id": "QNlQHt8DMy7h",
        "colab": {
          "base_uri": "https://localhost:8080/",
          "height": 54
        },
        "outputId": "8490c6e0-30fb-40b3-f45e-f4345300b9c5"
      },
      "source": [
        "from tensorflow.keras.callbacks import ModelCheckpoint, EarlyStopping, ReduceLROnPlateau\n",
        "checkpoint = ModelCheckpoint(\"model-{loss:.2f}.h5\", monitor=\"loss\", verbose=1, save_best_only=True,\n",
        "                             save_weights_only=True, mode=\"min\", period=1)\n",
        "stop = EarlyStopping(monitor=\"loss\", patience=5, mode=\"min\")\n",
        "reduce_lr = ReduceLROnPlateau(monitor=\"loss\", factor=0.2, patience=5, min_lr=1e-6, verbose=1, mode=\"min\")"
      ],
      "execution_count": 26,
      "outputs": [
        {
          "output_type": "stream",
          "text": [
            "WARNING:tensorflow:`period` argument is deprecated. Please use `save_freq` to specify the frequency in number of samples seen.\n"
          ],
          "name": "stdout"
        }
      ]
    },
    {
      "cell_type": "markdown",
      "metadata": {
        "colab_type": "text",
        "id": "LxxbwvXEf07e"
      },
      "source": [
        "### Fit the model (5 marks)\n",
        "- Fit the model using below parameters\n",
        "  - epochs: you can decide\n",
        "  - batch_size: 1\n",
        "  - callbacks: checkpoint, reduce_lr, stop"
      ]
    },
    {
      "cell_type": "code",
      "metadata": {
        "id": "8JRDJcoc5LPs",
        "colab_type": "code",
        "colab": {
          "base_uri": "https://localhost:8080/",
          "height": 1000
        },
        "outputId": "12bafedc-8107-4570-d7f0-6e61fe904e35"
      },
      "source": [
        "model.fit(x=X_train, y=masks, batch_size=1, epochs=40, verbose=1, callbacks=[checkpoint,reduce_lr, stop], validation_split=0.1, workers=1, use_multiprocessing=True)"
      ],
      "execution_count": 27,
      "outputs": [
        {
          "output_type": "stream",
          "text": [
            "Train on 368 samples, validate on 41 samples\n",
            "Epoch 1/40\n",
            "367/368 [============================>.] - ETA: 0s - loss: 1.3461 - dice_coefficient: 0.4411\n",
            "Epoch 00001: loss improved from inf to 1.34634, saving model to model-1.35.h5\n",
            "368/368 [==============================] - 27s 74ms/sample - loss: 1.3463 - dice_coefficient: 0.4408 - val_loss: 1.3596 - val_dice_coefficient: 0.4205\n",
            "Epoch 2/40\n",
            "367/368 [============================>.] - ETA: 0s - loss: 0.7801 - dice_coefficient: 0.6091\n",
            "Epoch 00002: loss improved from 1.34634 to 0.78069, saving model to model-0.78.h5\n",
            "368/368 [==============================] - 21s 56ms/sample - loss: 0.7807 - dice_coefficient: 0.6085 - val_loss: 1.2012 - val_dice_coefficient: 0.4504\n",
            "Epoch 3/40\n",
            "367/368 [============================>.] - ETA: 0s - loss: 0.6081 - dice_coefficient: 0.6724\n",
            "Epoch 00003: loss improved from 0.78069 to 0.60827, saving model to model-0.61.h5\n",
            "368/368 [==============================] - 21s 56ms/sample - loss: 0.6083 - dice_coefficient: 0.6720 - val_loss: 1.0199 - val_dice_coefficient: 0.4987\n",
            "Epoch 4/40\n",
            "367/368 [============================>.] - ETA: 0s - loss: 0.5579 - dice_coefficient: 0.6937\n",
            "Epoch 00004: loss improved from 0.60827 to 0.55771, saving model to model-0.56.h5\n",
            "368/368 [==============================] - 21s 56ms/sample - loss: 0.5577 - dice_coefficient: 0.6938 - val_loss: 1.0567 - val_dice_coefficient: 0.4984\n",
            "Epoch 5/40\n",
            "367/368 [============================>.] - ETA: 0s - loss: 0.5039 - dice_coefficient: 0.7178\n",
            "Epoch 00005: loss improved from 0.55771 to 0.50348, saving model to model-0.50.h5\n",
            "368/368 [==============================] - 20s 55ms/sample - loss: 0.5035 - dice_coefficient: 0.7180 - val_loss: 1.0324 - val_dice_coefficient: 0.5057\n",
            "Epoch 6/40\n",
            "367/368 [============================>.] - ETA: 0s - loss: 0.4677 - dice_coefficient: 0.7328\n",
            "Epoch 00006: loss improved from 0.50348 to 0.46766, saving model to model-0.47.h5\n",
            "368/368 [==============================] - 21s 56ms/sample - loss: 0.4677 - dice_coefficient: 0.7331 - val_loss: 0.9678 - val_dice_coefficient: 0.5281\n",
            "Epoch 7/40\n",
            "367/368 [============================>.] - ETA: 0s - loss: 0.4454 - dice_coefficient: 0.7443\n",
            "Epoch 00007: loss improved from 0.46766 to 0.44551, saving model to model-0.45.h5\n",
            "368/368 [==============================] - 20s 55ms/sample - loss: 0.4455 - dice_coefficient: 0.7442 - val_loss: 1.0308 - val_dice_coefficient: 0.5144\n",
            "Epoch 8/40\n",
            "367/368 [============================>.] - ETA: 0s - loss: 0.4421 - dice_coefficient: 0.7467\n",
            "Epoch 00008: loss improved from 0.44551 to 0.44193, saving model to model-0.44.h5\n",
            "368/368 [==============================] - 20s 55ms/sample - loss: 0.4419 - dice_coefficient: 0.7466 - val_loss: 1.2417 - val_dice_coefficient: 0.4760\n",
            "Epoch 9/40\n",
            "367/368 [============================>.] - ETA: 0s - loss: 0.4326 - dice_coefficient: 0.7495\n",
            "Epoch 00009: loss improved from 0.44193 to 0.43197, saving model to model-0.43.h5\n",
            "368/368 [==============================] - 21s 56ms/sample - loss: 0.4320 - dice_coefficient: 0.7500 - val_loss: 1.0981 - val_dice_coefficient: 0.5169\n",
            "Epoch 10/40\n",
            "367/368 [============================>.] - ETA: 0s - loss: 0.4147 - dice_coefficient: 0.7609\n",
            "Epoch 00010: loss improved from 0.43197 to 0.41500, saving model to model-0.42.h5\n",
            "368/368 [==============================] - 21s 56ms/sample - loss: 0.4150 - dice_coefficient: 0.7607 - val_loss: 0.9549 - val_dice_coefficient: 0.5376\n",
            "Epoch 11/40\n",
            "367/368 [============================>.] - ETA: 0s - loss: 0.3991 - dice_coefficient: 0.7672\n",
            "Epoch 00011: loss improved from 0.41500 to 0.39918, saving model to model-0.40.h5\n",
            "368/368 [==============================] - 20s 55ms/sample - loss: 0.3992 - dice_coefficient: 0.7672 - val_loss: 1.0214 - val_dice_coefficient: 0.5209\n",
            "Epoch 12/40\n",
            "367/368 [============================>.] - ETA: 0s - loss: 0.3850 - dice_coefficient: 0.7750\n",
            "Epoch 00012: loss improved from 0.39918 to 0.38501, saving model to model-0.39.h5\n",
            "368/368 [==============================] - 21s 56ms/sample - loss: 0.3850 - dice_coefficient: 0.7753 - val_loss: 1.0181 - val_dice_coefficient: 0.5275\n",
            "Epoch 13/40\n",
            "367/368 [============================>.] - ETA: 0s - loss: 0.3755 - dice_coefficient: 0.7804\n",
            "Epoch 00013: loss improved from 0.38501 to 0.37517, saving model to model-0.38.h5\n",
            "368/368 [==============================] - 21s 56ms/sample - loss: 0.3752 - dice_coefficient: 0.7806 - val_loss: 1.0315 - val_dice_coefficient: 0.5259\n",
            "Epoch 14/40\n",
            "367/368 [============================>.] - ETA: 0s - loss: 0.3644 - dice_coefficient: 0.7834\n",
            "Epoch 00014: loss improved from 0.37517 to 0.36432, saving model to model-0.36.h5\n",
            "368/368 [==============================] - 21s 56ms/sample - loss: 0.3643 - dice_coefficient: 0.7838 - val_loss: 0.9465 - val_dice_coefficient: 0.5541\n",
            "Epoch 15/40\n",
            "367/368 [============================>.] - ETA: 0s - loss: 0.3509 - dice_coefficient: 0.7909\n",
            "Epoch 00015: loss improved from 0.36432 to 0.35067, saving model to model-0.35.h5\n",
            "368/368 [==============================] - 21s 56ms/sample - loss: 0.3507 - dice_coefficient: 0.7910 - val_loss: 1.0332 - val_dice_coefficient: 0.5293\n",
            "Epoch 16/40\n",
            "367/368 [============================>.] - ETA: 0s - loss: 0.3449 - dice_coefficient: 0.7926\n",
            "Epoch 00016: loss improved from 0.35067 to 0.34479, saving model to model-0.34.h5\n",
            "368/368 [==============================] - 21s 56ms/sample - loss: 0.3448 - dice_coefficient: 0.7926 - val_loss: 0.9969 - val_dice_coefficient: 0.5467\n",
            "Epoch 17/40\n",
            "367/368 [============================>.] - ETA: 0s - loss: 0.3295 - dice_coefficient: 0.7988\n",
            "Epoch 00017: loss improved from 0.34479 to 0.32930, saving model to model-0.33.h5\n",
            "368/368 [==============================] - 21s 56ms/sample - loss: 0.3293 - dice_coefficient: 0.7990 - val_loss: 1.0533 - val_dice_coefficient: 0.5381\n",
            "Epoch 18/40\n",
            "367/368 [============================>.] - ETA: 0s - loss: 0.3261 - dice_coefficient: 0.8029\n",
            "Epoch 00018: loss improved from 0.32930 to 0.32612, saving model to model-0.33.h5\n",
            "368/368 [==============================] - 21s 56ms/sample - loss: 0.3261 - dice_coefficient: 0.8027 - val_loss: 1.0217 - val_dice_coefficient: 0.5399\n",
            "Epoch 19/40\n",
            "367/368 [============================>.] - ETA: 0s - loss: 0.3134 - dice_coefficient: 0.8063\n",
            "Epoch 00019: loss improved from 0.32612 to 0.31423, saving model to model-0.31.h5\n",
            "368/368 [==============================] - 20s 55ms/sample - loss: 0.3142 - dice_coefficient: 0.8058 - val_loss: 0.9842 - val_dice_coefficient: 0.5487\n",
            "Epoch 20/40\n",
            "367/368 [============================>.] - ETA: 0s - loss: 0.3066 - dice_coefficient: 0.8108\n",
            "Epoch 00020: loss improved from 0.31423 to 0.30700, saving model to model-0.31.h5\n",
            "368/368 [==============================] - 20s 54ms/sample - loss: 0.3070 - dice_coefficient: 0.8106 - val_loss: 0.9640 - val_dice_coefficient: 0.5598\n",
            "Epoch 21/40\n",
            "367/368 [============================>.] - ETA: 0s - loss: 0.3019 - dice_coefficient: 0.8135\n",
            "Epoch 00021: loss improved from 0.30700 to 0.30184, saving model to model-0.30.h5\n",
            "368/368 [==============================] - 20s 55ms/sample - loss: 0.3018 - dice_coefficient: 0.8136 - val_loss: 1.1002 - val_dice_coefficient: 0.5375\n",
            "Epoch 22/40\n",
            "367/368 [============================>.] - ETA: 0s - loss: 0.2896 - dice_coefficient: 0.8200\n",
            "Epoch 00022: loss improved from 0.30184 to 0.28955, saving model to model-0.29.h5\n",
            "368/368 [==============================] - 20s 54ms/sample - loss: 0.2895 - dice_coefficient: 0.8199 - val_loss: 0.9985 - val_dice_coefficient: 0.5577\n",
            "Epoch 23/40\n",
            "367/368 [============================>.] - ETA: 0s - loss: 0.2872 - dice_coefficient: 0.8224\n",
            "Epoch 00023: loss improved from 0.28955 to 0.28756, saving model to model-0.29.h5\n",
            "368/368 [==============================] - 20s 55ms/sample - loss: 0.2876 - dice_coefficient: 0.8220 - val_loss: 0.9774 - val_dice_coefficient: 0.5600\n",
            "Epoch 24/40\n",
            "367/368 [============================>.] - ETA: 0s - loss: 0.2797 - dice_coefficient: 0.8258\n",
            "Epoch 00024: loss improved from 0.28756 to 0.27936, saving model to model-0.28.h5\n",
            "368/368 [==============================] - 20s 55ms/sample - loss: 0.2794 - dice_coefficient: 0.8260 - val_loss: 1.0757 - val_dice_coefficient: 0.5516\n",
            "Epoch 25/40\n",
            "367/368 [============================>.] - ETA: 0s - loss: 0.2834 - dice_coefficient: 0.8248\n",
            "Epoch 00025: loss did not improve from 0.27936\n",
            "368/368 [==============================] - 20s 53ms/sample - loss: 0.2833 - dice_coefficient: 0.8248 - val_loss: 1.0102 - val_dice_coefficient: 0.5557\n",
            "Epoch 26/40\n",
            "367/368 [============================>.] - ETA: 0s - loss: 0.2741 - dice_coefficient: 0.8307\n",
            "Epoch 00026: loss improved from 0.27936 to 0.27485, saving model to model-0.27.h5\n",
            "368/368 [==============================] - 20s 54ms/sample - loss: 0.2749 - dice_coefficient: 0.8300 - val_loss: 1.0321 - val_dice_coefficient: 0.5560\n",
            "Epoch 27/40\n",
            "367/368 [============================>.] - ETA: 0s - loss: 0.2699 - dice_coefficient: 0.8324\n",
            "Epoch 00027: loss improved from 0.27485 to 0.26999, saving model to model-0.27.h5\n",
            "368/368 [==============================] - 20s 54ms/sample - loss: 0.2700 - dice_coefficient: 0.8324 - val_loss: 1.1300 - val_dice_coefficient: 0.5468\n",
            "Epoch 28/40\n",
            "367/368 [============================>.] - ETA: 0s - loss: 0.2613 - dice_coefficient: 0.8374\n",
            "Epoch 00028: loss improved from 0.26999 to 0.26139, saving model to model-0.26.h5\n",
            "368/368 [==============================] - 20s 55ms/sample - loss: 0.2614 - dice_coefficient: 0.8375 - val_loss: 0.9690 - val_dice_coefficient: 0.5716\n",
            "Epoch 29/40\n",
            "367/368 [============================>.] - ETA: 0s - loss: 0.2586 - dice_coefficient: 0.8387\n",
            "Epoch 00029: loss improved from 0.26139 to 0.25835, saving model to model-0.26.h5\n",
            "368/368 [==============================] - 20s 55ms/sample - loss: 0.2583 - dice_coefficient: 0.8387 - val_loss: 1.0685 - val_dice_coefficient: 0.5489\n",
            "Epoch 30/40\n",
            "367/368 [============================>.] - ETA: 0s - loss: 0.2553 - dice_coefficient: 0.8411\n",
            "Epoch 00030: loss improved from 0.25835 to 0.25517, saving model to model-0.26.h5\n",
            "368/368 [==============================] - 20s 54ms/sample - loss: 0.2552 - dice_coefficient: 0.8413 - val_loss: 0.9676 - val_dice_coefficient: 0.5772\n",
            "Epoch 31/40\n",
            "367/368 [============================>.] - ETA: 0s - loss: 0.2518 - dice_coefficient: 0.8433\n",
            "Epoch 00031: loss improved from 0.25517 to 0.25182, saving model to model-0.25.h5\n",
            "368/368 [==============================] - 20s 56ms/sample - loss: 0.2518 - dice_coefficient: 0.8431 - val_loss: 1.0871 - val_dice_coefficient: 0.5576\n",
            "Epoch 32/40\n",
            "367/368 [============================>.] - ETA: 0s - loss: 0.2499 - dice_coefficient: 0.8446\n",
            "Epoch 00032: loss improved from 0.25182 to 0.24991, saving model to model-0.25.h5\n",
            "368/368 [==============================] - 20s 55ms/sample - loss: 0.2499 - dice_coefficient: 0.8446 - val_loss: 1.0317 - val_dice_coefficient: 0.5543\n",
            "Epoch 33/40\n",
            "367/368 [============================>.] - ETA: 0s - loss: 0.2443 - dice_coefficient: 0.8472\n",
            "Epoch 00033: loss improved from 0.24991 to 0.24436, saving model to model-0.24.h5\n",
            "368/368 [==============================] - 20s 56ms/sample - loss: 0.2444 - dice_coefficient: 0.8472 - val_loss: 1.1251 - val_dice_coefficient: 0.5548\n",
            "Epoch 34/40\n",
            "367/368 [============================>.] - ETA: 0s - loss: 0.2397 - dice_coefficient: 0.8506\n",
            "Epoch 00034: loss improved from 0.24436 to 0.24005, saving model to model-0.24.h5\n",
            "368/368 [==============================] - 20s 55ms/sample - loss: 0.2400 - dice_coefficient: 0.8501 - val_loss: 0.9401 - val_dice_coefficient: 0.5792\n",
            "Epoch 35/40\n",
            "367/368 [============================>.] - ETA: 0s - loss: 0.2396 - dice_coefficient: 0.8507\n",
            "Epoch 00035: loss improved from 0.24005 to 0.23933, saving model to model-0.24.h5\n",
            "368/368 [==============================] - 20s 56ms/sample - loss: 0.2393 - dice_coefficient: 0.8510 - val_loss: 0.9869 - val_dice_coefficient: 0.5736\n",
            "Epoch 36/40\n",
            "367/368 [============================>.] - ETA: 0s - loss: 0.2377 - dice_coefficient: 0.8517\n",
            "Epoch 00036: loss improved from 0.23933 to 0.23789, saving model to model-0.24.h5\n",
            "368/368 [==============================] - 20s 56ms/sample - loss: 0.2379 - dice_coefficient: 0.8518 - val_loss: 1.0175 - val_dice_coefficient: 0.5703\n",
            "Epoch 37/40\n",
            "367/368 [============================>.] - ETA: 0s - loss: 0.2349 - dice_coefficient: 0.8537\n",
            "Epoch 00037: loss improved from 0.23789 to 0.23503, saving model to model-0.24.h5\n",
            "368/368 [==============================] - 20s 56ms/sample - loss: 0.2350 - dice_coefficient: 0.8536 - val_loss: 0.9186 - val_dice_coefficient: 0.5892\n",
            "Epoch 38/40\n",
            "367/368 [============================>.] - ETA: 0s - loss: 0.2328 - dice_coefficient: 0.8545\n",
            "Epoch 00038: loss improved from 0.23503 to 0.23281, saving model to model-0.23.h5\n",
            "368/368 [==============================] - 21s 56ms/sample - loss: 0.2328 - dice_coefficient: 0.8545 - val_loss: 0.9507 - val_dice_coefficient: 0.5794\n",
            "Epoch 39/40\n",
            "367/368 [============================>.] - ETA: 0s - loss: 0.2279 - dice_coefficient: 0.8577\n",
            "Epoch 00039: loss improved from 0.23281 to 0.22778, saving model to model-0.23.h5\n",
            "368/368 [==============================] - 20s 56ms/sample - loss: 0.2278 - dice_coefficient: 0.8576 - val_loss: 0.9796 - val_dice_coefficient: 0.5717\n",
            "Epoch 40/40\n",
            "367/368 [============================>.] - ETA: 0s - loss: 0.2256 - dice_coefficient: 0.8590\n",
            "Epoch 00040: loss improved from 0.22778 to 0.22602, saving model to model-0.23.h5\n",
            "368/368 [==============================] - 20s 56ms/sample - loss: 0.2260 - dice_coefficient: 0.8586 - val_loss: 1.0089 - val_dice_coefficient: 0.5661\n"
          ],
          "name": "stdout"
        },
        {
          "output_type": "execute_result",
          "data": {
            "text/plain": [
              "<tensorflow.python.keras.callbacks.History at 0x7fa6e62c4d68>"
            ]
          },
          "metadata": {
            "tags": []
          },
          "execution_count": 27
        }
      ]
    },
    {
      "cell_type": "markdown",
      "metadata": {
        "colab_type": "text",
        "id": "5VtnuzlOf4uL"
      },
      "source": [
        "### Get the predicted mask for a sample image   (5 marks)"
      ]
    },
    {
      "cell_type": "code",
      "metadata": {
        "id": "RDTQmk-N0mwO",
        "colab_type": "code",
        "colab": {}
      },
      "source": [
        "model.load_weights(\"model-0.23.h5\")"
      ],
      "execution_count": 0,
      "outputs": []
    },
    {
      "cell_type": "code",
      "metadata": {
        "id": "Z4FOPqTOodg7",
        "colab_type": "code",
        "colab": {
          "base_uri": "https://localhost:8080/",
          "height": 34
        },
        "outputId": "7b06a128-4e01-40eb-f137-5510d59657d4"
      },
      "source": [
        "model.input_shape"
      ],
      "execution_count": 38,
      "outputs": [
        {
          "output_type": "execute_result",
          "data": {
            "text/plain": [
              "(None, 224, 224, 3)"
            ]
          },
          "metadata": {
            "tags": []
          },
          "execution_count": 38
        }
      ]
    },
    {
      "cell_type": "code",
      "metadata": {
        "id": "n_5F472ApSNZ",
        "colab_type": "code",
        "colab": {
          "base_uri": "https://localhost:8080/",
          "height": 34
        },
        "outputId": "282a8dde-bede-4d8f-fbe2-0053eaf004df"
      },
      "source": [
        "model.output_shape"
      ],
      "execution_count": 39,
      "outputs": [
        {
          "output_type": "execute_result",
          "data": {
            "text/plain": [
              "(None, 224, 224)"
            ]
          },
          "metadata": {
            "tags": []
          },
          "execution_count": 39
        }
      ]
    },
    {
      "cell_type": "code",
      "metadata": {
        "id": "7e4xbm5ZqqkX",
        "colab_type": "code",
        "colab": {
          "base_uri": "https://localhost:8080/",
          "height": 34
        },
        "outputId": "76a29e5d-3403-478f-9c65-8b6a58297ac1"
      },
      "source": [
        "X_train.shape"
      ],
      "execution_count": 40,
      "outputs": [
        {
          "output_type": "execute_result",
          "data": {
            "text/plain": [
              "(409, 224, 224, 3)"
            ]
          },
          "metadata": {
            "tags": []
          },
          "execution_count": 40
        }
      ]
    },
    {
      "cell_type": "code",
      "metadata": {
        "id": "dhfhwh8rszZW",
        "colab_type": "code",
        "colab": {
          "base_uri": "https://localhost:8080/",
          "height": 303
        },
        "outputId": "75a4fc29-750f-41f9-b498-4c046a5eea03"
      },
      "source": [
        "n = 5\n",
        "sample_image = X_train[n]\n",
        "final_image = sample_image\n",
        "sample_image.shape\n",
        "pyplot.imshow(sample_image)"
      ],
      "execution_count": 41,
      "outputs": [
        {
          "output_type": "stream",
          "text": [
            "Clipping input data to the valid range for imshow with RGB data ([0..1] for floats or [0..255] for integers).\n"
          ],
          "name": "stderr"
        },
        {
          "output_type": "execute_result",
          "data": {
            "text/plain": [
              "<matplotlib.image.AxesImage at 0x7fa6de2e3d30>"
            ]
          },
          "metadata": {
            "tags": []
          },
          "execution_count": 41
        },
        {
          "output_type": "display_data",
          "data": {
            "image/png": "[encoded data removed]",
            "text/plain": [
              "<Figure size 432x288 with 1 Axes>"
            ]
          },
          "metadata": {
            "tags": []
          }
        }
      ]
    },
    {
      "cell_type": "code",
      "metadata": {
        "colab_type": "code",
        "id": "o-CBCMysrchu",
        "colab": {
          "base_uri": "https://localhost:8080/",
          "height": 286
        },
        "outputId": "2766ba60-3c31-4add-9760-820e58f235a8"
      },
      "source": [
        "sample_image = np.resize(sample_image, (1, 224, 224, 3))\n",
        "sample_image.shape\n",
        "pred_mask = model.predict(x=sample_image)\n",
        "pred_mask = np.resize(pred_mask, (224, 224))\n",
        "pyplot.imshow(pred_mask)"
      ],
      "execution_count": 42,
      "outputs": [
        {
          "output_type": "execute_result",
          "data": {
            "text/plain": [
              "<matplotlib.image.AxesImage at 0x7fa6dfee8438>"
            ]
          },
          "metadata": {
            "tags": []
          },
          "execution_count": 42
        },
        {
          "output_type": "display_data",
          "data": {
            "image/png": "[encoded data removed]",
            "text/plain": [
              "<Figure size 432x288 with 1 Axes>"
            ]
          },
          "metadata": {
            "tags": []
          }
        }
      ]
    },
    {
      "cell_type": "markdown",
      "metadata": {
        "colab_type": "text",
        "id": "fDIetz0HgA4R"
      },
      "source": [
        "### Impose the mask on the image (5 marks)"
      ]
    },
    {
      "cell_type": "code",
      "metadata": {
        "id": "dkZHxq9MwFGG",
        "colab_type": "code",
        "colab": {
          "base_uri": "https://localhost:8080/",
          "height": 303
        },
        "outputId": "b33b0965-48a3-470e-f1f5-00595b748d9d"
      },
      "source": [
        "final_pred_mask = np.resize(pred_mask, (224,224))\n",
        "final_image = np.resize(sample_image,  (224,224,3))\n",
        "pyplot.imshow(final_image)"
      ],
      "execution_count": 43,
      "outputs": [
        {
          "output_type": "stream",
          "text": [
            "Clipping input data to the valid range for imshow with RGB data ([0..1] for floats or [0..255] for integers).\n"
          ],
          "name": "stderr"
        },
        {
          "output_type": "execute_result",
          "data": {
            "text/plain": [
              "<matplotlib.image.AxesImage at 0x7fa6de62f6d8>"
            ]
          },
          "metadata": {
            "tags": []
          },
          "execution_count": 43
        },
        {
          "output_type": "display_data",
          "data": {
            "image/png": "[encoded data removed]",
            "text/plain": [
              "<Figure size 432x288 with 1 Axes>"
            ]
          },
          "metadata": {
            "tags": []
          }
        }
      ]
    },
    {
      "cell_type": "code",
      "metadata": {
        "id": "K7LqaG52yT1d",
        "colab_type": "code",
        "colab": {
          "base_uri": "https://localhost:8080/",
          "height": 286
        },
        "outputId": "af994956-a600-4780-a78a-ee17debc89e4"
      },
      "source": [
        "pyplot.imshow(final_pred_mask, alpha=0.5)"
      ],
      "execution_count": 44,
      "outputs": [
        {
          "output_type": "execute_result",
          "data": {
            "text/plain": [
              "<matplotlib.image.AxesImage at 0x7fa6de14b4e0>"
            ]
          },
          "metadata": {
            "tags": []
          },
          "execution_count": 44
        },
        {
          "output_type": "display_data",
          "data": {
            "image/png": "[encoded data removed]",
            "text/plain": [
              "<Figure size 432x288 with 1 Axes>"
            ]
          },
          "metadata": {
            "tags": []
          }
        }
      ]
    },
    {
      "cell_type": "code",
      "metadata": {
        "id": "knOXrEzhzVV4",
        "colab_type": "code",
        "colab": {
          "base_uri": "https://localhost:8080/",
          "height": 286
        },
        "outputId": "ff49b765-6961-49ae-f055-94589e1f5ea3"
      },
      "source": [
        "fig = plt.figure(frameon=False)\n",
        "im1 = plt.imshow(final_image)\n",
        "im2 = plt.imshow(final_pred_mask,alpha=.6)\n",
        "plt.show()"
      ],
      "execution_count": 45,
      "outputs": [
        {
          "output_type": "stream",
          "text": [
            "Clipping input data to the valid range for imshow with RGB data ([0..1] for floats or [0..255] for integers).\n"
          ],
          "name": "stderr"
        },
        {
          "output_type": "display_data",
          "data": {
            "image/png": "[encoded data removed]",
            "text/plain": [
              "<Figure size 432x288 with 1 Axes>"
            ]
          },
          "metadata": {
            "tags": []
          }
        }
      ]
    }
  ]
}